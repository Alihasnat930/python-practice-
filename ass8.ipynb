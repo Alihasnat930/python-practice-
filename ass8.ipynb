{
 "cells": [
  {
   "cell_type": "code",
   "execution_count": null,
   "metadata": {},
   "outputs": [],
   "source": []
  },
  {
   "cell_type": "markdown",
   "metadata": {},
   "source": [
    "Enumerated\n",
    "Mainly used for returning index with data elements \n",
    "defualt class type is tuple \n",
    "syntax\n",
    "enumated(iterabale,start_index=0)\n",
    "by default by starting index is 0 if not set to anyother index.\n",
    "imagine you are creating To-do-list without any function\n",
    "thats how you will use enumerate to display the task added by the user,index will be priorty in this scenario.\n"
   ]
  },
  {
   "cell_type": "code",
   "execution_count": null,
   "metadata": {},
   "outputs": [],
   "source": [
    "#Simple Example of enumerated\n",
    "week_days=['monday','tuesday','wednesday','thursday','firday','sat']\n",
    "for index,day in enumerate(week_days)\n",
    "print(f \"{index}: {week_days}\")\n",
    "\n",
    "\n",
    "\n",
    "\n",
    "\n",
    "\n"
   ]
  },
  {
   "cell_type": "code",
   "execution_count": null,
   "metadata": {},
   "outputs": [],
   "source": []
  },
  {
   "cell_type": "code",
   "execution_count": 7,
   "metadata": {},
   "outputs": [
    {
     "name": "stdout",
     "output_type": "stream",
     "text": [
      "day1\n",
      "String\n",
      "junnon\n",
      "callband\n",
      "day2\n",
      "Xulfi\n",
      "Atif\n",
      "Vitalsign\n"
     ]
    }
   ],
   "source": [
    "#music fetival\n",
    "schedule_list=[\n",
    "    ['day1','String','junnon','callband'],\n",
    "    ['day2','Xulfi','Atif','Vitalsign']\n",
    "]\n",
    "for day_info in schedule_list: # day_info you can give any name like Your_info ,give meaning full name\n",
    "    day,*bands=day_info # *bands (*) its use for unpack the item\n",
    "    print(day)\n",
    "    for band in bands: # its use for pack the item\n",
    "         print(band)\n",
    "\n",
    "\n",
    "\n"
   ]
  },
  {
   "cell_type": "markdown",
   "metadata": {},
   "source": [
    "Stack in python.(lifo)\n"
   ]
  },
  {
   "cell_type": "code",
   "execution_count": 8,
   "metadata": {},
   "outputs": [
    {
     "name": "stdout",
     "output_type": "stream",
     "text": [
      "search\n",
      "['google', 'gmail']\n"
     ]
    }
   ],
   "source": [
    "browsing_session=['google','gmail','search']\n",
    "last= browsing_session.pop()\n",
    "print(last)\n",
    "print(browsing_session)"
   ]
  },
  {
   "cell_type": "code",
   "execution_count": 11,
   "metadata": {},
   "outputs": [
    {
     "name": "stdout",
     "output_type": "stream",
     "text": [
      "Disable\n"
     ]
    }
   ],
   "source": [
    "browsing_session.pop()\n",
    "if not browsing_session:\n",
    "    print(\"Disable\")"
   ]
  },
  {
   "cell_type": "code",
   "execution_count": 13,
   "metadata": {},
   "outputs": [
    {
     "name": "stdout",
     "output_type": "stream",
     "text": [
      "deque([2, 3, 4, 5])\n"
     ]
    }
   ],
   "source": [
    "#Queues in py(fifo)\n",
    "from collections import deque\n",
    "lst= deque([])\n",
    "lst.append(1)\n",
    "lst.append(2)\n",
    "lst.append(3)\n",
    "lst.append(4)\n",
    "lst.append(5)\n",
    "\n",
    "lst.popleft()\n",
    "print(lst)\n",
    "\n",
    "\n",
    "\n",
    "\n",
    "\n"
   ]
  },
  {
   "cell_type": "code",
   "execution_count": 17,
   "metadata": {},
   "outputs": [
    {
     "name": "stdout",
     "output_type": "stream",
     "text": [
      "empty\n"
     ]
    }
   ],
   "source": [
    "lst.popleft()\n",
    "if not lst:\n",
    "    print(\"empty\")\n"
   ]
  },
  {
   "cell_type": "code",
   "execution_count": 22,
   "metadata": {},
   "outputs": [
    {
     "name": "stdout",
     "output_type": "stream",
     "text": [
      "1\n"
     ]
    }
   ],
   "source": [
    "'''tuples                \n",
    "if we not want to change any imformation in data or code.\n",
    " it can not change.'''\n",
    "point =1,2,3\n",
    "x,y,z =point\n",
    "print(x)\n",
    "\n",
    "#point[0]= 12\n",
    "\n",
    "\n",
    "\n",
    "\n",
    "\n"
   ]
  },
  {
   "cell_type": "code",
   "execution_count": null,
   "metadata": {},
   "outputs": [],
   "source": []
  }
 ],
 "metadata": {
  "kernelspec": {
   "display_name": "Python 3",
   "language": "python",
   "name": "python3"
  },
  "language_info": {
   "codemirror_mode": {
    "name": "ipython",
    "version": 3
   },
   "file_extension": ".py",
   "mimetype": "text/x-python",
   "name": "python",
   "nbconvert_exporter": "python",
   "pygments_lexer": "ipython3",
   "version": "3.6.5"
  }
 },
 "nbformat": 4,
 "nbformat_minor": 2
}
