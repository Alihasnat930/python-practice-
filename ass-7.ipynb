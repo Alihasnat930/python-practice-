{
 "cells": [
  {
   "cell_type": "markdown",
   "metadata": {},
   "source": [
    "For loops\n",
    "iterates over a collection of objects like(list,strings etc)\n",
    "\n",
    "scenario image we are working on co-ordinates system,and want to print x,y co-ordinates for each value of x and y.\n",
    "normally one would use an iteration that is for-loop and nested for-loop."
   ]
  },
  {
   "cell_type": "code",
   "execution_count": null,
   "metadata": {},
   "outputs": [],
   "source": [
    "for le"
   ]
  },
  {
   "cell_type": "code",
   "execution_count": 2,
   "metadata": {},
   "outputs": [
    {
     "data": {
      "text/plain": [
       "'hasnat'"
      ]
     },
     "execution_count": 2,
     "metadata": {},
     "output_type": "execute_result"
    }
   ],
   "source": [
    "item=[\"ali\",\"hasnat\"]\n",
    "item.pop(1)"
   ]
  },
  {
   "cell_type": "code",
   "execution_count": null,
   "metadata": {},
   "outputs": [
    {
     "name": "stdout",
     "output_type": "stream",
     "text": [
      "Enter your nameali\n",
      "Enter your namehasnat\n",
      "Enter your nameq\n"
     ]
    }
   ],
   "source": [
    "names = []\n",
    "while True:\n",
    "     name=input(\"Enter your name\")\n",
    "if names == 'q':\n",
    "     break\n",
    "names.append(name)\n",
    "print(name)\n",
    "\n",
    "\n"
   ]
  },
  {
   "cell_type": "code",
   "execution_count": 11,
   "metadata": {},
   "outputs": [
    {
     "name": "stdout",
     "output_type": "stream",
     "text": [
      "[['ali', 'hasnat', 'ali'], ['ali', 'hasnat', 'ali']]\n"
     ]
    }
   ],
   "source": [
    "name_list=['ali','hasnat','ali']\n",
    "for name_list in unique_list:\n",
    "        # check if exists in unique_list or not\n",
    "        if name_list not in unique_list:\n",
    "              unique_list.append(name_list)\n",
    "print(unique_list)\n",
    "\n",
    "\n",
    " \n",
    "\n",
    "\n",
    "\n",
    "\n",
    "\n"
   ]
  },
  {
   "cell_type": "code",
   "execution_count": 28,
   "metadata": {},
   "outputs": [
    {
     "name": "stdout",
     "output_type": "stream",
     "text": [
      "Enter book namePython\n",
      "book is avaible Python\n",
      "book is avaible Python\n",
      "book is avaible Python\n",
      "book is avaible Python\n"
     ]
    }
   ],
   "source": [
    "books=input(\"Enter book name\")\n",
    "coll_books= ['DSA','Python','OOp'\n",
    ",'C++']  \n",
    "for book in coll_books:\n",
    "    if books==coll_books[0]:\n",
    "           print(\"book is avaible\",coll_books[0])\n",
    "    elif books==coll_books[1]:   \n",
    "           print(\"book is avaible\",coll_books[1])\n",
    "    else:\n",
    "           print(\"book is avaible\",coll_books[2])\n",
    "\n",
    "   \n",
    "\n",
    "\n",
    "\n",
    "\n",
    "\n",
    "\n"
   ]
  },
  {
   "cell_type": "code",
   "execution_count": null,
   "metadata": {},
   "outputs": [],
   "source": []
  },
  {
   "cell_type": "code",
   "execution_count": null,
   "metadata": {},
   "outputs": [],
   "source": []
  }
 ],
 "metadata": {
  "kernelspec": {
   "display_name": "Python 3",
   "language": "python",
   "name": "python3"
  }
 },
 "nbformat": 4,
 "nbformat_minor": 2
}
