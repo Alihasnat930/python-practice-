{
 "cells": [
  {
   "cell_type": "markdown",
   "metadata": {},
   "source": [
    "String split"
   ]
  },
  {
   "cell_type": "code",
   "execution_count": null,
   "metadata": {},
   "outputs": [],
   "source": [
    "email=input(\"Enter your email\")\n",
    "domain_name=email.split('@')[1]\n",
    "print(f'your email address is{email} and your domain is {domain_name}')"
   ]
  },
  {
   "cell_type": "markdown",
   "metadata": {},
   "source": [
    "String **index**"
   ]
  },
  {
   "cell_type": "code",
   "execution_count": 10,
   "metadata": {},
   "outputs": [
    {
     "name": "stdout",
     "output_type": "stream",
     "text": [
      "your email address isali@gmail.com and your domain is gmail.com\n"
     ]
    }
   ],
   "source": [
    "email=input(\"Enter your email\")\n",
    "domain_name=email[email.index('@')+1:]\n",
    "print(f'your email address is{email} and your domain is {domain_name}')"
   ]
  },
  {
   "cell_type": "markdown",
   "metadata": {},
   "source": [
    "String Find"
   ]
  },
  {
   "cell_type": "code",
   "execution_count": 11,
   "metadata": {},
   "outputs": [
    {
     "name": "stdout",
     "output_type": "stream",
     "text": [
      "your email address ishasnat@gmail.com and your domain is gmail.com\n"
     ]
    }
   ],
   "source": [
    "email=input(\"Enter your email\")\n",
    "domain_name=email[email.find('@')+1:]\n",
    "print(f'your email address is{email} and your domain is {domain_name}')"
   ]
  },
  {
   "cell_type": "markdown",
   "metadata": {},
   "source": [
    "-Initialize a variable and assign any string for example python a programming language Python versatile language.\n",
    "\n",
    "-Remove punctuation.\n",
    "\n",
    "-Use replace() method and replace all occurrence of “,” and replace with empty” ” sting.\n",
    "\n",
    "-use another replace() for removing”,” Arid place it with” “.\n",
    "\n",
    "-split the feet its individual characters using spit method.\n",
    "\n",
    "-create a set of unique words from the words list using set() functions the unique words will contain (Python,is…).\n",
    "\n",
    "-create a dictionary using dictionary comprehension.\n",
    "-iterate over each word for n each word, count its occurrence in words list using count() method assign the variable that word in the word_frequency dictionary.\n",
    "\n",
    "-Print()\n",
    "\n"
   ]
  },
  {
   "cell_type": "code",
   "execution_count": 3,
   "metadata": {},
   "outputs": [
    {
     "name": "stdout",
     "output_type": "stream",
     "text": [
      "{'Python': 2, 'language': 2, 'versatile': 1, 'programming': 1, 'a': 1}\n"
     ]
    }
   ],
   "source": [
    "sentence= \"Python, a programming language. Python, versatile language\"\n",
    "\n",
    "import string\n",
    "\n",
    "sentence = sentence.translate(str.maketrans('', '', string.punctuation))\n",
    "\n",
    "sentence = sentence.replace(\",\", \"\").replace(\".\", \" \")\n",
    "\n",
    "words = sentence.split()\n",
    "\n",
    "unique_words = set(words)\n",
    "\n",
    "word_frequency = {word: words.count(word) for word in unique_words}\n",
    "\n",
    "print(word_frequency)\n"
   ]
  },
  {
   "cell_type": "markdown",
   "metadata": {},
   "source": [
    "conditions.\n",
    "\n",
    "if-elif-else\n",
    "\n"
   ]
  },
  {
   "cell_type": "markdown",
   "metadata": {},
   "source": [
    "Grading system & Teacher review\n"
   ]
  },
  {
   "cell_type": "code",
   "execution_count": null,
   "metadata": {},
   "outputs": [],
   "source": [
    "print(\"Enter your name \")"
   ]
  }
 ],
 "metadata": {
  "kernelspec": {
   "display_name": "Python 3",
   "language": "python",
   "name": "python3"
  },
  "language_info": {
   "codemirror_mode": {
    "name": "ipython",
    "version": 3
   },
   "file_extension": ".py",
   "mimetype": "text/x-python",
   "name": "python",
   "nbconvert_exporter": "python",
   "pygments_lexer": "ipython3",
   "version": "3.11.5"
  },
  "orig_nbformat": 4
 },
 "nbformat": 4,
 "nbformat_minor": 2
}
