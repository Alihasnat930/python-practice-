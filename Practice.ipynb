{
 "cells": [
  {
   "cell_type": "markdown",
   "metadata": {},
   "source": [
    "Movie Ticket Price Calculator\n",
    "Scenario:\n",
    "You are building a movie ticket \n",
    "booking system. The ticket prices \n",
    "for the movie vary depending on the \n",
    "age of the customer and the time of \n",
    "the show. The base price for the \n",
    "ticket is $10. Customers who are \n",
    "under 18 years old get a discount of \n",
    "50%, and customers who are over 60 \n",
    "years old get a discount of 25%. For \n",
    "shows that start before 12 PM, there \n",
    "is a 10% discount on the ticket price. \n",
    "You need to calculate the ticket \n",
    "price for each customer based on \n",
    "their age and the time of the show."
   ]
  },
  {
   "cell_type": "code",
   "execution_count": 27,
   "metadata": {},
   "outputs": [
    {
     "name": "stdout",
     "output_type": "stream",
     "text": [
      "Online movie tickets\n",
      "Enter your name: ali\n",
      "enter your age:18\n",
      "Enter show timing: 5\n",
      "net price of ticket 1000\n",
      "you earn 10% discount 900.0\n"
     ]
    }
   ],
   "source": [
    "print(\"Online movie tickets\")\n",
    "name=str(input(\"Enter your name: \"))\n",
    "age=int(input(\"enter your age:\"))\n",
    "showtm=int(input(\"Enter show timing: \"))\n",
    "price=1000 \n",
    "time =12\n",
    "print(\"net price of ticket\",price)\n",
    "if age<18: \n",
    "    print(\"you earn 50% discount\")\n",
    "    print(\"total price\",1000-(price*0.5))\n",
    "elif age>=60: \n",
    "    print(\"you earn 25% discount\",1000-(price*0.25))\n",
    "elif showtm<time:\n",
    "    print(\"you earn 10% discount\",1000-(price*0.1)) \n",
    "else : \n",
    "    print(\"thank you\")   \n",
    "\n",
    "\n",
    "\n"
   ]
  },
  {
   "cell_type": "markdown",
   "metadata": {},
   "source": [
    "Cricket Scoreboard\n",
    "Scenario:\n",
    "You are building a cricket \n",
    "scoreboard for a match between \n",
    "India and Australia. You need to \n",
    "write a program that takes the \n",
    "current score of India and Australia \n",
    "as inputs and displays the current\n",
    "status of the match. The program \n",
    "should display \"India is winning\" if \n",
    "India's score is higher than \n",
    "Australia's score, \"Australia is \n",
    "winning\" if Australia's score is \n",
    "higher than India's score, and \"The \n",
    "match is tied\" if both teams have the \n",
    "same score"
   ]
  },
  {
   "cell_type": "code",
   "execution_count": 35,
   "metadata": {},
   "outputs": [
    {
     "name": "stdout",
     "output_type": "stream",
     "text": [
      "Score board\n",
      "Enter the score of India590\n",
      "Enter the score of Australia589\n",
      "Match status\n",
      "India is winning\n"
     ]
    }
   ],
   "source": [
    "print(\"Score board\")\n",
    "team1=int(input(\"Enter the score of India \"))\n",
    "team2=int(input(\"Enter the score of Australia \"))\n",
    "print(\"Match status\")\n",
    "if team1>team2:\n",
    "    print(\"India is winning\")\n",
    "elif team1<team2:\n",
    "    print(\"Australia is winning\")\n",
    "elif team1>=team2:\n",
    "    print(\"The match is tied\")\n",
    "else:\n",
    "    print(\"match X\")\n",
    "\n"
   ]
  },
  {
   "cell_type": "markdown",
   "metadata": {},
   "source": [
    "Password Strength Checker\n",
    "Scenario:\n",
    "You are building a password \n",
    "strength checker for a website. You \n",
    "need to write a program that takes \n",
    "the user's password as input and \n",
    "checks its strength. The password \n",
    "strength should be classified into \n",
    "three categories - weak, medium, \n",
    "and strong. A password is \n",
    "considered weak if it contains only \n",
    "letters or only numbers, medium if it \n",
    "contains both letters and numbers \n",
    "but is less than 8 characters long, and \n",
    "strong if it contains both letters and \n",
    "numbers and is 8 characters or \n",
    "longer."
   ]
  },
  {
   "cell_type": "code",
   "execution_count": 2,
   "metadata": {},
   "outputs": [
    {
     "name": "stdout",
     "output_type": "stream",
     "text": [
      "Welcome to password strength checker\n",
      "Your password is medium\n"
     ]
    }
   ],
   "source": [
    "print(\"Welcome to password strength checker\")\n",
    "password = str(input(\"Enter your password: \"))\n",
    "has_letter = any(char.isalpha() for char in password)\n",
    "has_digit = any(char.isdigit() for char in password)\n",
    "length = len(password)\n",
    "\n",
    "if (has_letter or has_digit) and length <= 8:\n",
    "    print(\"Your password is weak\")\n",
    "elif has_letter and has_digit and length <= 12:\n",
    "    print(\"Your password is medium\")\n",
    "elif has_letter and has_digit and length >= 12:\n",
    "    print(\"Your password is strong\")\n",
    "else:\n",
    "    print(\"Thanks\")\n"
   ]
  },
  {
   "cell_type": "markdown",
   "metadata": {},
   "source": [
    "The Restaurant Order\n",
    "You are at a restaurant and you want \n",
    "to order a pizza. The menu has three \n",
    "sizes (small, medium, and large) and \n",
    "four toppings (pepperoni, \n",
    "mushrooms, olives, and onions). \n",
    "You decide to order a medium pizza \n",
    "with mushrooms and olives. You \n",
    "write the following code to place \n",
    "your order:"
   ]
  },
  {
   "cell_type": "code",
   "execution_count": 1,
   "metadata": {},
   "outputs": [
    {
     "name": "stdout",
     "output_type": "stream",
     "text": [
      "The restaurant order\n",
      "Menu:\n",
      "      flavor: pepperoni, mushrooms, olives, onions,\n",
      "      size: small, medium, large\n",
      "You ordered a small pizza with flavor olives\n"
     ]
    }
   ],
   "source": [
    "print(\"The restaurant order\")\n",
    "print('''Menu:\n",
    "      flavor: pepperoni, mushrooms, olives, onions,\n",
    "      size: small, medium, large''')\n",
    "\n",
    "pizza = str(input(\"Enter pizza size: \"))\n",
    "flavor = str(input(\"Enter flavor: \"))\n",
    "\n",
    "size = {'small', 'medium', 'large'}\n",
    "\n",
    "if pizza == 'large' and pizza in size:\n",
    "    print(\"You ordered a large pizza with flavor\", flavor)\n",
    "elif pizza == 'medium' and pizza in size:\n",
    "    print(\"You ordered a medium pizza with flavor\", flavor)\n",
    "elif pizza == 'small' and pizza in size:\n",
    "    print(\"You ordered a small pizza with flavor\", flavor)\n",
    "else:\n",
    "    print(\"Invalid pizza size or flavor. Please check the menu and try again.\")\n"
   ]
  },
  {
   "cell_type": "markdown",
   "metadata": {},
   "source": [
    "Cricket Match in Karachi\n",
    "You are a cricket fan and you are \n",
    "watching a match between Pakistan \n",
    "and India at the National Stadium in \n",
    "Karachi. Write a program that \n",
    "checks the score of the match and \n",
    "prints out a message depending on \n",
    "the score. If Pakistan scores more \n",
    "than 300 runs, print \"Pakistan is \n",
    "doing great, keep it up!\" If Pakistan \n",
    "scores between 200 and 300 runs, \n",
    "print \"Pakistan is doing well, but \n",
    "they need to pick up the pace.\" If \n",
    "Pakistan scores less than 200 runsprint \"Pakistan needs to step up their \n",
    "game.\""
   ]
  },
  {
   "cell_type": "code",
   "execution_count": 3,
   "metadata": {},
   "outputs": [
    {
     "name": "stdout",
     "output_type": "stream",
     "text": [
      "Cricket Match in Karachi\n",
      "Pakistan vs India\n",
      "Pakistan is doing great, keep it up!\n"
     ]
    }
   ],
   "source": [
    "\n",
    "print(\"Cricket Match in Karachi\")\n",
    "print(\"Pakistan vs India\")\n",
    "score = int(input(\"Enter the current score of Pakistan: \"))\n",
    "if score > 300:\n",
    "        print(\"Pakistan is doing great, keep it up!\")\n",
    "elif 200 <= score <= 300:\n",
    "        print(\"Pakistan is doing well, but they need to pick up the pace.\")\n",
    "else:\n",
    "        print(\"Pakistan needs to step up their game.\")\n"
   ]
  },
  {
   "cell_type": "markdown",
   "metadata": {},
   "source": [
    "Temperature in Lahore\n",
    "You are in Lahore on a hot summer \n",
    "day, and you want to check the \n",
    "temperature to decide what to wear. \n",
    "Write a program that takes the \n",
    "temperature as an input and prints \n",
    "out a message depending on the \n",
    "temperature. If the temperature is \n",
    "above 35 degrees Celsius, print \"It's \n",
    "very hot outside, wear light clothes.\" \n",
    "If the temperature is between 30 and \n",
    "35 degrees Celsius, print \"It's hot \n",
    "outside, wear comfortable clothes.\" \n",
    "If the temperature is between 25 and \n",
    "30 degrees Celsius, \n",
    "pleasant outside, wear whatever you \n",
    "want.\" If the temperature is below 25 \n",
    "degrees Celsius, print \"It's cold \n",
    "outside, wear warm clothes."
   ]
  },
  {
   "cell_type": "code",
   "execution_count": 6,
   "metadata": {},
   "outputs": [
    {
     "name": "stdout",
     "output_type": "stream",
     "text": [
      "Temperature in Lahore\n",
      "Temperature is 15.0\n",
      "It's cold outside, wear warm clothes.\n"
     ]
    }
   ],
   "source": [
    "print(\"Temperature in Lahore\")\n",
    "temperature = float(input(\"Enter the temperature in degrees Celsius: \"))\n",
    "print(\"Temperature is\",temperature)\n",
    "if temperature > 35:\n",
    "        print(\"It's very hot outside, wear light clothes.\")\n",
    "elif 30 <= temperature <= 35:\n",
    "        print(\"It's hot outside, wear comfortable clothes.\")\n",
    "elif 25 <= temperature < 30:\n",
    "        print(\"It's pleasant outside, wear whatever you want.\")\n",
    "else:\n",
    "        print(\"It's cold outside, wear warm clothes.\")\n"
   ]
  },
  {
   "cell_type": "markdown",
   "metadata": {},
   "source": [
    "Trip to Islamabad\n",
    "You are planning a trip to Islamabad \n",
    "with your friends, and you want to \n",
    "check the distance and time it will \n",
    "take to reach there. Write a program \n",
    "that takes the distance and speed as \n",
    "inputs and calculates the time it will \n",
    "take to reach Islamabad. If the time \n",
    "is less than 5 hours, print \"We can \n",
    "reach Islamabad before lunchtime!\" \n",
    "If the time is between 5 and 7 hours, \n",
    "print \"We can reach Islamabad \n",
    "before dinner time.\" If the time is \n",
    "more than 7 hours, print \"We need to \n",
    "start early in the morning to reach \n",
    "Islamabad on time.\""
   ]
  },
  {
   "cell_type": "code",
   "execution_count": 8,
   "metadata": {},
   "outputs": [
    {
     "name": "stdout",
     "output_type": "stream",
     "text": [
      "Trip to Islamabad\n",
      "the distance 15.0\n",
      "the speed 80.0\n",
      "We can reach Islamabad before lunchtime!\n"
     ]
    }
   ],
   "source": [
    "print(\"Trip to Islamabad\")\n",
    "\n",
    "\n",
    "distance = float(input(\"Enter the distance to Islamabad (in kilometers): \"))\n",
    "speed = float(input(\"Enter the average speed (in kilometers per hour): \"))\n",
    "print(\"the distance\",distance)\n",
    "print(\"the speed\",speed)\n",
    "time_in_hours = distance / speed\n",
    "\n",
    "if time_in_hours < 5:\n",
    "        print(\"We can reach Islamabad before lunchtime!\")\n",
    "elif 5 <= time_in_hours < 7:\n",
    "        print(\"We can reach Islamabad before dinner time.\")\n",
    "else:\n",
    "        print(\"We need to start early in the morning to reach Islamabad on time.\")\n"
   ]
  }
 ],
 "metadata": {
  "kernelspec": {
   "display_name": "Python 3",
   "language": "python",
   "name": "python3"
  },
  "language_info": {
   "codemirror_mode": {
    "name": "ipython",
    "version": 3
   },
   "file_extension": ".py",
   "mimetype": "text/x-python",
   "name": "python",
   "nbconvert_exporter": "python",
   "pygments_lexer": "ipython3",
   "version": "3.11.4"
  }
 },
 "nbformat": 4,
 "nbformat_minor": 2
}
