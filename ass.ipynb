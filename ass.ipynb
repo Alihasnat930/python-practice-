{
 "cells": [
  {
   "cell_type": "markdown",
   "metadata": {},
   "source": [
    "# Loops\n",
    "## While Loop\n",
    "- used when exactly one don't care about the number of times the loop will iterate \n",
    "- like endless runing games (subway, tample run etc)\n",
    "- Syntax:\n",
    "    - while (condtion):\n",
    "\n",
    "          - statement(s)\n",
    "          \n",
    "          - increment "
   ]
  },
  {
   "cell_type": "markdown",
   "metadata": {},
   "source": [
    "# Scenario:\n",
    "<p> Imagine you are playing a number guessing game to guess correctly any secret number , there must be some guess limit that will control the number of guess user entered </p>.\n",
    "\n",
    "### Algrithm \n",
    "\n",
    "- intialize a variable <i>secret_number, guess_count and guess_limit</i>\n",
    "- use while loop to match the condition that is , <i> while guess_count < guess_limit </i>\n",
    "\n"
   ]
  },
  {
   "cell_type": "code",
   "execution_count": 2,
   "metadata": {},
   "outputs": [
    {
     "name": "stdout",
     "output_type": "stream",
     "text": [
      "Haar gaye aap\n",
      "Haar gaye aap\n",
      "Hum jeet gaye..😁\n"
     ]
    }
   ],
   "source": [
    "secret_number = 9\n",
    "guess_count = 0\n",
    "guess_limit = 3\n",
    "while guess_count < guess_limit:\n",
    "    guess = int(input(\"Enter your Guess: \"))\n",
    "    guess_count= guess_count +1\n",
    "    if guess == secret_number:\n",
    "        print(\"Hum jeet gaye..😁\")\n",
    "        break\n",
    "    else:\n",
    "        print(\"Haar gaye aap\")\n",
    "\n"
   ]
  },
  {
   "cell_type": "code",
   "execution_count": 5,
   "metadata": {},
   "outputs": [
    {
     "name": "stdout",
     "output_type": "stream",
     "text": [
      "🚗🚓🚕 lets go \n",
      "car start hai bhai kya chahty ho\n",
      "car start hai bhai kya chahty ho\n",
      "Good bye\n"
     ]
    }
   ],
   "source": [
    "# Car Engine without GUI\n",
    "\n",
    "command = \"\"\n",
    "started = False\n",
    "\n",
    "while True:\n",
    "    command = input(\"-->\").lower()\n",
    "    if command == \"start\":\n",
    "        if started:\n",
    "            print('car start hai bhai kya chahty ho')\n",
    "        else:\n",
    "            started = True\n",
    "            print('🚗🚓🚕 lets go ')\n",
    "    elif command == \"stop\":\n",
    "        print('🚗 stopped')\n",
    "    elif command == \"help\":\n",
    "        print(\"\"\"\n",
    "        manual:\n",
    "        start- to start the car\n",
    "        stop- to stop the car\n",
    "        quit- to exit\n",
    "        \"\"\")\n",
    "    elif command == \"quit\":\n",
    "        print(\"Good bye\")\n",
    "        break\n",
    "else:\n",
    "    print('sorry i dont understand')\n"
   ]
  }
 ],
 "metadata": {
  "interpreter": {
   "hash": "8a9681e39844f652d5b4b9546f20ca4205a8167fe914e7d0f37c2626a073f228"
  },
  "kernelspec": {
   "display_name": "Python 3.6.6 64-bit",
   "language": "python",
   "name": "python3"
  },
  "language_info": {
   "codemirror_mode": {
    "name": "ipython",
    "version": 3
   },
   "file_extension": ".py",
   "mimetype": "text/x-python",
   "name": "python",
   "nbconvert_exporter": "python",
   "pygments_lexer": "ipython3",
   "version": "3.6.6"
  },
  "orig_nbformat": 4
 },
 "nbformat": 4,
 "nbformat_minor": 2
}
