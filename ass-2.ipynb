{
 "cells": [
  {
   "cell_type": "code",
   "execution_count": 27,
   "metadata": {},
   "outputs": [
    {
     "name": "stdout",
     "output_type": "stream",
     "text": [
      "Online movie tickets\n",
      "Enter your name: ali\n",
      "enter your age:18\n",
      "Enter show timing: 5\n",
      "net price of ticket 1000\n",
      "you earn 10% discount 900.0\n"
     ]
    }
   ],
   "source": [
    "print(\"Online movie tickets\")\n",
    "name=str(input(\"Enter your name: \"))\n",
    "age=int(input(\"enter your age:\"))\n",
    "showtm=int(input(\"Enter show timing: \"))\n",
    "price=1000 \n",
    "time =12\n",
    "print(\"net price of ticket\",price)\n",
    "if age<18: \n",
    "    print(\"you earn 50% discount\")\n",
    "    print(\"total price\",1000-(price*0.5))\n",
    "elif age>=60: \n",
    "    print(\"you earn 25% discount\",1000-(price*0.25))\n",
    "elif showtm<time:\n",
    "    print(\"you earn 10% discount\",1000-(price*0.1)) \n",
    "else : \n",
    "    print(\"thank you\")   \n",
    "\n",
    "\n",
    "\n"
   ]
  },
  {
   "cell_type": "code",
   "execution_count": 35,
   "metadata": {},
   "outputs": [
    {
     "name": "stdout",
     "output_type": "stream",
     "text": [
      "Score board\n",
      "Enter the score of India590\n",
      "Enter the score of Australia589\n",
      "Match status\n",
      "India is winning\n"
     ]
    }
   ],
   "source": [
    "print(\"Score board\")\n",
    "team1=int(input(\"Enter the score of India \"))\n",
    "team2=int(input(\"Enter the score of Australia \"))\n",
    "print(\"Match status\")\n",
    "if team1>team2:\n",
    "    print(\"India is winning\")\n",
    "elif team1<team2:\n",
    "    print(\"Australia is winning\")\n",
    "elif team1>=team2:\n",
    "    print(\"The match is tied\")\n",
    "else:\n",
    "    print(\"match X\")\n",
    "\n"
   ]
  },
  {
   "cell_type": "code",
   "execution_count": 2,
   "metadata": {},
   "outputs": [
    {
     "name": "stdout",
     "output_type": "stream",
     "text": [
      "Welcome to password strength checker\n",
      "Your password is medium\n"
     ]
    }
   ],
   "source": [
    "print(\"Welcome to password strength checker\")\n",
    "\n",
    "password = input(\"Enter your password: \")\n",
    "letter = any(char.isalpha() for char in password)\n",
    "num = any(char.isdigit() for char in password)\n",
    "length = len(password)\n",
    "\n",
    "if (letter or num) and length <= 8:\n",
    "    print(\"Your password is weak\")\n",
    "\n",
    "elif letter and num and length <= 12:\n",
    "    print(\"Your password is medium\")\n",
    "\n",
    "elif letter and num and length >= 12:\n",
    "    print(\"Your password is strong\")\n",
    "\n",
    "else:\n",
    "    print(\"Thanks\")\n"
   ]
  },
  {
   "cell_type": "code",
   "execution_count": 4,
   "metadata": {},
   "outputs": [
    {
     "name": "stdout",
     "output_type": "stream",
     "text": [
      "The restaurant order\n",
      "Menu\n",
      "      flavor: pepperoni, mushrooms, olives, onions,\n",
      "      size: small, medium, large\n",
      "You ordered a small pizza with flavor olives\n"
     ]
    }
   ],
   "source": [
    "print(\"The restaurant order\")\n",
    "print('''Menu\n",
    "      flavor: pepperoni, mushrooms, olives, onions,\n",
    "      size: small, medium, large''')\n",
    "\n",
    "pizza_size = input(\"Enter pizza size: \")\n",
    "flavor = input(\"Enter flavor: \")\n",
    "\n",
    "sizes = {'small', 'medium', 'large'}\n",
    "\n",
    "if pizza_size in sizes:\n",
    "    if pizza_size == 'small':\n",
    "        print(\"You ordered a small pizza with flavor\", flavor)\n",
    "    elif pizza_size == 'medium':\n",
    "        print(\"You ordered a medium pizza with flavor\", flavor)\n",
    "    elif pizza_size == 'large':\n",
    "        print(\"You ordered a large pizza with flavor\", flavor)\n",
    "else:\n",
    "    print(\"Invalid size entered. Please choose from: small, medium, large\")\n",
    "\n",
    "\n",
    "\n",
    "\n",
    "\n",
    "\n",
    "\n",
    "\n",
    "\n",
    "\n"
   ]
  }
 ],
 "metadata": {
  "kernelspec": {
   "display_name": "Python 3",
   "language": "python",
   "name": "python3"
  },
  "language_info": {
   "codemirror_mode": {
    "name": "ipython",
    "version": 3
   },
   "file_extension": ".py",
   "mimetype": "text/x-python",
   "name": "python",
   "nbconvert_exporter": "python",
   "pygments_lexer": "ipython3",
   "version": "3.11.5"
  }
 },
 "nbformat": 4,
 "nbformat_minor": 2
}
